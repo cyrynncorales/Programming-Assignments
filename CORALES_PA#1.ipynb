{
 "cells": [
  {
   "cell_type": "code",
   "execution_count": 4,
   "id": "036f2ffc-ab7a-4e24-a367-4b722e57475f",
   "metadata": {},
   "outputs": [
    {
     "name": "stdout",
     "output_type": "stream",
     "text": [
      "['e', 'h', 'l', 'l', 'o']\n"
     ]
    }
   ],
   "source": [
    "#FirstItem\n",
    "text = \"hello\"\n",
    "sorted_text = ''.join(sorted(text))\n",
    "print(sorted(text))"
   ]
  },
  {
   "cell_type": "code",
   "execution_count": 26,
   "id": "f82db931-9dde-4183-b74b-43b288ddadc0",
   "metadata": {},
   "outputs": [
    {
     "name": "stdout",
     "output_type": "stream",
     "text": [
      "ehllo\n",
      "ccdeeghiinotw\n",
      "acehkr\n"
     ]
    }
   ],
   "source": [
    "#FirstItem\n",
    "def alphabet_soup(text):\n",
    "    return ''.join(sorted(text))\n",
    "\n",
    "print(alphabet_soup(\"hello\"))\n",
    "print(alphabet_soup(\"codingwithece\"))\n",
    "print(alphabet_soup(\"hacker\"))"
   ]
  },
  {
   "cell_type": "code",
   "execution_count": 25,
   "id": "cba435ba-6f07-457f-a9f9-7994bc77c8b6",
   "metadata": {},
   "outputs": [
    {
     "name": "stdout",
     "output_type": "stream",
     "text": [
      "make me :)\n",
      "make me :D\n",
      "make me :((\n",
      "make me >:(\n"
     ]
    }
   ],
   "source": [
    "#SecondItem\n",
    "def emotify(text):\n",
    "    emoticons = {\n",
    "        \"smile\" : \":)\" ,\n",
    "        \"grin\" : \":D\" ,\n",
    "        \"sad\" : \":((\",\n",
    "        \"mad\" : \">:(\" \n",
    "    }\n",
    "\n",
    "    words = text.split()\n",
    "    result = []\n",
    "\n",
    "    for word in words:\n",
    "        if word in emoticons:\n",
    "            result.append(emoticons[word])\n",
    "        else:\n",
    "            result.append(word)\n",
    "    return ' '.join(result)\n",
    "    \n",
    "print (emotify(\"make me smile\"))\n",
    "print (emotify(\"make me grin\"))\n",
    "print (emotify(\"make me sad\"))\n",
    "print (emotify(\"make me mad\"))"
   ]
  },
  {
   "cell_type": "code",
   "execution_count": 24,
   "id": "527a10dc-7fd5-4a0a-a329-3055b228bfb7",
   "metadata": {},
   "outputs": [
    {
     "name": "stdout",
     "output_type": "stream",
     "text": [
      "first: 1\n",
      "middle: [2, 3, 4, 5]\n",
      "last: 6\n"
     ]
    }
   ],
   "source": [
    "#Third Item\n",
    "\n",
    "writeyourcodehere = [1,2,3,4,5,6]\n",
    "\n",
    "first, *middle, last = writeyourcodehere\n",
    "\n",
    "print(\"first:\", first)\n",
    "print(\"middle:\", middle)\n",
    "print(\"last:\", last)"
   ]
  },
  {
   "cell_type": "code",
   "execution_count": null,
   "id": "812801b9-5419-4c43-a461-9d4f7013cdfb",
   "metadata": {},
   "outputs": [],
   "source": []
  }
 ],
 "metadata": {
  "kernelspec": {
   "display_name": "Python 3 (ipykernel)",
   "language": "python",
   "name": "python3"
  },
  "language_info": {
   "codemirror_mode": {
    "name": "ipython",
    "version": 3
   },
   "file_extension": ".py",
   "mimetype": "text/x-python",
   "name": "python",
   "nbconvert_exporter": "python",
   "pygments_lexer": "ipython3",
   "version": "3.13.5"
  }
 },
 "nbformat": 4,
 "nbformat_minor": 5
}
